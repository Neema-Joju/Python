{
  "nbformat": 4,
  "nbformat_minor": 0,
  "metadata": {
    "colab": {
      "provenance": [],
      "authorship_tag": "ABX9TyOxOKhdeND8dkBTnurHFSUJ",
      "include_colab_link": true
    },
    "kernelspec": {
      "name": "python3",
      "display_name": "Python 3"
    },
    "language_info": {
      "name": "python"
    }
  },
  "cells": [
    {
      "cell_type": "markdown",
      "metadata": {
        "id": "view-in-github",
        "colab_type": "text"
      },
      "source": [
        "<a href=\"https://colab.research.google.com/github/Neema-Joju/Python/blob/master/RBF_v1.ipynb\" target=\"_parent\"><img src=\"https://colab.research.google.com/assets/colab-badge.svg\" alt=\"Open In Colab\"/></a>"
      ]
    },
    {
      "cell_type": "code",
      "execution_count": 1,
      "metadata": {
        "id": "aqan3RXFrzvs"
      },
      "outputs": [],
      "source": [
        "import numpy as np\n",
        "import scipy as sp\n",
        "import pandas as pd\n",
        "import math\n",
        "from sklearn.metrics import mean_squared_error\n",
        "from sklearn.model_selection import train_test_split\n",
        "from sklearn.preprocessing import StandardScaler\n",
        "from sklearn.preprocessing import MinMaxScaler\n",
        "from sklearn.neural_network import MLPRegressor"
      ]
    },
    {
      "cell_type": "code",
      "source": [
        "data = pd.read_excel(\"/content/Colab.xlsx\")"
      ],
      "metadata": {
        "id": "hH4cPU3LcFms"
      },
      "execution_count": 2,
      "outputs": []
    },
    {
      "cell_type": "code",
      "source": [
        "# extract the features and target variable\n",
        "x = data[['D_DewPointC','D_WindGustKmph', 'D_cloudcover', 'D_humidity', 'D_precipMM','D_pressure','D_tempC','D_visibility','D_winddirDegree','D_windspeedKmph']]\n",
        "b = data['Delay']\n",
        "#dew = pd.to_numeric('D_DewPointC')\n",
        "y = pd.to_numeric(b)"
      ],
      "metadata": {
        "id": "Kt5fYx0RcJ_U"
      },
      "execution_count": 4,
      "outputs": []
    },
    {
      "cell_type": "code",
      "source": [
        "#preprocess the data\n",
        "scaler=MinMaxScaler(feature_range=(0,1))\n",
        "scaled_data = scaler.fit_transform(x.values.reshape(-1,1))\n"
      ],
      "metadata": {
        "id": "a5Wy_iwGdX47"
      },
      "execution_count": 5,
      "outputs": []
    },
    {
      "cell_type": "code",
      "source": [
        "# split the data into train and test sets\n",
        "x_train, x_test, y_train, y_test = train_test_split(x, y, test_size=0.2)"
      ],
      "metadata": {
        "id": "qsXDzjD4enVD"
      },
      "execution_count": 6,
      "outputs": []
    },
    {
      "cell_type": "code",
      "source": [
        "#regressor and fit\n",
        "regressor = MLPRegressor(activation='relu',hidden_layer_sizes=32,max_iter=256,random_state=42)\n",
        "regressor.fit(x_train,y_train)"
      ],
      "metadata": {
        "colab": {
          "base_uri": "https://localhost:8080/"
        },
        "id": "K5M26_9EcPNY",
        "outputId": "e78b12d6-45cd-4466-b78d-825381beddd9"
      },
      "execution_count": 13,
      "outputs": [
        {
          "output_type": "execute_result",
          "data": {
            "text/plain": [
              "MLPRegressor(hidden_layer_sizes=32, max_iter=256, random_state=42)"
            ]
          },
          "metadata": {},
          "execution_count": 13
        }
      ]
    },
    {
      "cell_type": "code",
      "source": [
        "# Predict on the test set\n",
        "y_pred = regressor.predict(x_test)"
      ],
      "metadata": {
        "id": "QA064dRlg_B9"
      },
      "execution_count": 14,
      "outputs": []
    },
    {
      "cell_type": "code",
      "source": [
        "from sklearn.metrics import mean_absolute_error\n",
        "mean_absolute_error(y_test, y_pred)"
      ],
      "metadata": {
        "colab": {
          "base_uri": "https://localhost:8080/"
        },
        "id": "9-Ik_curhMCx",
        "outputId": "f4d7e769-2ca6-4b8f-ccb9-2f6ec2d2b7c0"
      },
      "execution_count": 15,
      "outputs": [
        {
          "output_type": "execute_result",
          "data": {
            "text/plain": [
              "14.469736246574028"
            ]
          },
          "metadata": {},
          "execution_count": 15
        }
      ]
    },
    {
      "cell_type": "code",
      "source": [
        "mse=mean_squared_error(y_test,y_pred)"
      ],
      "metadata": {
        "id": "7iRgeIIBI6Tm"
      },
      "execution_count": 16,
      "outputs": []
    },
    {
      "cell_type": "code",
      "source": [
        "rmse=math.sqrt(mse)\n",
        "print(rmse)"
      ],
      "metadata": {
        "colab": {
          "base_uri": "https://localhost:8080/"
        },
        "id": "ajL4V7jQJe0N",
        "outputId": "350b393f-f8b8-47a7-e565-834842f048c3"
      },
      "execution_count": 17,
      "outputs": [
        {
          "output_type": "stream",
          "name": "stdout",
          "text": [
            "33.79110801369911\n"
          ]
        }
      ]
    }
  ]
}